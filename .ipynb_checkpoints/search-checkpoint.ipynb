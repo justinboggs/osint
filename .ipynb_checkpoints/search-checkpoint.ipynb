{
 "cells": [
  {
   "cell_type": "code",
   "execution_count": 11,
   "id": "e226f84d-c079-4ada-a1f4-8d7d14f88fad",
   "metadata": {},
   "outputs": [],
   "source": [
    "import webbrowser\n",
    "import time\n",
    "import random"
   ]
  },
  {
   "cell_type": "code",
   "execution_count": 13,
   "id": "45ac63bb-65a2-4d61-ab8d-e22023ddd9d6",
   "metadata": {},
   "outputs": [
    {
     "name": "stdin",
     "output_type": "stream",
     "text": [
      "Enter website (without http://):  www.homage.com\n"
     ]
    }
   ],
   "source": [
    "site = input(\"Enter website (without http://): \")"
   ]
  },
  {
   "cell_type": "code",
   "execution_count": 15,
   "id": "86c30151-d8cf-439d-a86f-769e3b97d565",
   "metadata": {},
   "outputs": [],
   "source": [
    "def open_website(domain, service_url):\n",
    "    url = service_url.format(domain)\n",
    "    webbrowser.open(url)"
   ]
  },
  {
   "cell_type": "code",
   "execution_count": 17,
   "id": "11421f36-815a-419f-b91a-c29d7511d753",
   "metadata": {},
   "outputs": [],
   "source": [
    "services = {\n",
    "    \"Whois Lookup\": \"https://www.who.is/whois/{}\",\n",
    "    \"Whoxy\": \"https://whoxy.com/{}\",\n",
    "    \"Certificates\": \"https://crt.sh/?q={}\",\n",
    "    \"Subdomains\": \"https://securitytrails.com/domain/{}\",\n",
    "    \"Malware\": \"https://www.virustotal.com/gui/domain/{}\",\n",
    "    \"builtwith\": \"https://builtwith.com/relationships/{}\",\n",
    "    \"dnslytics\": \"https://dnslytics.com/domain/{}\",\n",
    "    \"archive.org\": \"https://web.archive.org/web/*/{}\",\n",
    "    \"host.io\": \"https://host.io/{}\"\n",
    "}"
   ]
  },
  {
   "cell_type": "code",
   "execution_count": 19,
   "id": "ea682184-f426-4672-bbe4-152594425c77",
   "metadata": {},
   "outputs": [],
   "source": [
    "for service_name,service_url in services.items():\n",
    "    open_website(site, service_url)\n",
    "\n",
    "sleep_time = random.uniform(1, 5)\n",
    "time.sleep(sleep_time)"
   ]
  },
  {
   "cell_type": "code",
   "execution_count": null,
   "id": "13fdba65-afc1-432e-a084-15df85351fbb",
   "metadata": {},
   "outputs": [],
   "source": []
  }
 ],
 "metadata": {
  "kernelspec": {
   "display_name": "Python 3 (ipykernel)",
   "language": "python",
   "name": "python3"
  },
  "language_info": {
   "codemirror_mode": {
    "name": "ipython",
    "version": 3
   },
   "file_extension": ".py",
   "mimetype": "text/x-python",
   "name": "python",
   "nbconvert_exporter": "python",
   "pygments_lexer": "ipython3",
   "version": "3.12.4"
  }
 },
 "nbformat": 4,
 "nbformat_minor": 5
}
